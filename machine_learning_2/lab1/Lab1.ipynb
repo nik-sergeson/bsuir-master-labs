{
 "cells": [
  {
   "cell_type": "code",
   "execution_count": 1,
   "metadata": {},
   "outputs": [],
   "source": [
    "from IPython.display import display, Image as iImage\n",
    "import os\n",
    "import random\n",
    "from scipy import ndimage\n",
    "import numpy as np\n",
    "from scipy import misc\n",
    "from PIL import Image\n",
    "from sklearn.linear_model import LogisticRegression\n",
    "from sklearn.model_selection import StratifiedShuffleSplit\n",
    "from sklearn import metrics\n",
    "import matplotlib.pyplot as plt\n",
    "import pickle\n",
    "from tensorflow.keras.utils import normalize, to_categorical\n",
    "PATH_TO_notMNIST_SMALL=\"data/notMNIST_small\"\n",
    "PATH_TO_notMNIST_large=\"data/notMNIST_large\"\n",
    "PATH_TO_IMAGES=PATH_TO_notMNIST_large\n",
    "PATH_TO_PICKLED_DATA=\"data/Lab1\"\n",
    "CLASS_LABELS=['A', 'B', 'C', 'D', 'E', 'F', 'G', 'H', 'I', 'J']\n",
    "%matplotlib ipympl\n",
    "%matplotlib inline"
   ]
  },
  {
   "cell_type": "code",
   "execution_count": 2,
   "metadata": {},
   "outputs": [
    {
     "data": {
      "image/png": "[encoded data removed]",
      "text/plain": [
       "<IPython.core.display.Image object>"
      ]
     },
     "metadata": {},
     "output_type": "display_data"
    },
    {
     "data": {
      "image/png": "[encoded data removed]",
      "text/plain": [
       "<IPython.core.display.Image object>"
      ]
     },
     "metadata": {},
     "output_type": "display_data"
    },
    {
     "data": {
      "image/png": "[encoded data removed]",
      "text/plain": [
       "<IPython.core.display.Image object>"
      ]
     },
     "metadata": {},
     "output_type": "display_data"
    },
    {
     "data": {
      "image/png": "[encoded data removed]",
      "text/plain": [
       "<IPython.core.display.Image object>"
      ]
     },
     "metadata": {},
     "output_type": "display_data"
    },
    {
     "data": {
      "image/png": "[encoded data removed]",
      "text/plain": [
       "<IPython.core.display.Image object>"
      ]
     },
     "metadata": {},
     "output_type": "display_data"
    },
    {
     "data": {
      "image/png": "[encoded data removed]",
      "text/plain": [
       "<IPython.core.display.Image object>"
      ]
     },
     "metadata": {},
     "output_type": "display_data"
    },
    {
     "data": {
      "image/png": "[encoded data removed]",
      "text/plain": [
       "<IPython.core.display.Image object>"
      ]
     },
     "metadata": {},
     "output_type": "display_data"
    },
    {
     "data": {
      "image/png": "[encoded data removed]",
      "text/plain": [
       "<IPython.core.display.Image object>"
      ]
     },
     "metadata": {},
     "output_type": "display_data"
    },
    {
     "data": {
      "image/png": "[encoded data removed]",
      "text/plain": [
       "<IPython.core.display.Image object>"
      ]
     },
     "metadata": {},
     "output_type": "display_data"
    },
    {
     "data": {
      "image/png": "[encoded data removed]",
      "text/plain": [
       "<IPython.core.display.Image object>"
      ]
     },
     "metadata": {},
     "output_type": "display_data"
    }
   ],
   "source": [
    "for class_label in CLASS_LABELS:\n",
    "    for file in os.listdir(f\"{PATH_TO_IMAGES}/{class_label}\")[:1]:\n",
    "        path = f\"{PATH_TO_IMAGES}/{class_label}/{file}\"\n",
    "        display(iImage(path))"
   ]
  },
  {
   "cell_type": "code",
   "execution_count": 3,
   "metadata": {},
   "outputs": [
    {
     "name": "stdout",
     "output_type": "stream",
     "text": [
      "Quantity of class with label A -> 52912\n",
      "Quantity of class with label B -> 52912\n",
      "Quantity of class with label C -> 52912\n",
      "Quantity of class with label D -> 52912\n",
      "Quantity of class with label E -> 52912\n",
      "Quantity of class with label F -> 52912\n",
      "Quantity of class with label G -> 52912\n",
      "Quantity of class with label H -> 52912\n",
      "Quantity of class with label I -> 52912\n",
      "Quantity of class with label J -> 52911\n"
     ]
    }
   ],
   "source": [
    "for class_label in CLASS_LABELS:\n",
    "    dir_size=len(os.listdir(f\"{PATH_TO_IMAGES}/{class_label}\"))\n",
    "    print(f\"Quantity of class with label {class_label} -> {dir_size}\")"
   ]
  },
  {
   "cell_type": "code",
   "execution_count": 4,
   "metadata": {},
   "outputs": [
    {
     "name": "stdout",
     "output_type": "stream",
     "text": [
      "Can't read file data/notMNIST_large/A/SG90IE11c3RhcmQgQlROIFBvc3Rlci50dGY=.png, exception cannot identify image file 'data/notMNIST_large/A/SG90IE11c3RhcmQgQlROIFBvc3Rlci50dGY=.png'\n",
      "Can't read file data/notMNIST_large/A/Um9tYW5hIEJvbGQucGZi.png, exception cannot identify image file 'data/notMNIST_large/A/Um9tYW5hIEJvbGQucGZi.png'\n",
      "Can't read file data/notMNIST_large/A/RnJlaWdodERpc3BCb29rSXRhbGljLnR0Zg==.png, exception cannot identify image file 'data/notMNIST_large/A/RnJlaWdodERpc3BCb29rSXRhbGljLnR0Zg==.png'\n",
      "Can't read file data/notMNIST_large/B/TmlraXNFRi1TZW1pQm9sZEl0YWxpYy5vdGY=.png, exception cannot identify image file 'data/notMNIST_large/B/TmlraXNFRi1TZW1pQm9sZEl0YWxpYy5vdGY=.png'\n",
      "Can't read file data/notMNIST_large/B/TmlraXNFRi1TZW1pQm9sZEl0YWxpYy5vdGY=.png, exception cannot identify image file 'data/notMNIST_large/B/TmlraXNFRi1TZW1pQm9sZEl0YWxpYy5vdGY=.png'\n",
      "Can't read file data/notMNIST_large/A/Um9tYW5hIEJvbGQucGZi.png, exception cannot identify image file 'data/notMNIST_large/A/Um9tYW5hIEJvbGQucGZi.png'\n"
     ]
    },
    {
     "data": {
      "text/plain": [
       "((500000, 784), (20000, 784), (15000, 784))"
      ]
     },
     "execution_count": 4,
     "metadata": {},
     "output_type": "execute_result"
    }
   ],
   "source": [
    "def make_array(num_rows, img_size):\n",
    "    dataset = np.ndarray((num_rows, img_size*img_size), dtype=np.float)\n",
    "    labels = np.ndarray(num_rows, dtype=np.int32)\n",
    "    return dataset, labels\n",
    "\n",
    "def read_image(image_path, image_size, pixel_depth):\n",
    "    try:\n",
    "        image=Image.open(image_path)\n",
    "        image_data = np.array(image).astype(np.float).reshape(1, image_size*image_size)\n",
    "        if np.isnan(image_data).any():\n",
    "            return\n",
    "        return image_data\n",
    "    except IOError as e:\n",
    "        print(f\"Can't read file {image_path}, exception {e}\")\n",
    "        \n",
    "def fill_array_with_images(label_to_path_map, size, image_size, pixel_depth):\n",
    "    num_classes=len(label_to_path_map)\n",
    "    dataset, dataset_labels=make_array(size, image_size)\n",
    "    size_per_class = size // num_classes\n",
    "    row_idx=0\n",
    "    labels=list(label_to_path_map.keys())\n",
    "    for class_label in labels:\n",
    "        paths=label_to_path_map[class_label]\n",
    "        if labels.index(class_label)==len(labels)-1:\n",
    "            to_add=size_per_class+size%num_classes\n",
    "        else:\n",
    "            to_add=size_per_class\n",
    "        added=0\n",
    "        while added<to_add:\n",
    "            dataset[row_idx, : ]=read_image(paths[random.randint(0, len(paths)-1)], image_size, pixel_depth)\n",
    "            if np.isnan(dataset[row_idx, : ]).any():\n",
    "                continue\n",
    "            else:\n",
    "                dataset_labels[row_idx]=class_label\n",
    "                added+=1\n",
    "                row_idx+=1\n",
    "    return dataset, dataset_labels\n",
    "\n",
    "def merge_datasets(label_to_path_map, train_size, valid_size, test_size, image_size, pixel_depth):\n",
    "    valid_dataset, valid_labels = fill_array_with_images(label_to_path_map, valid_size, image_size, pixel_depth)\n",
    "    train_dataset, train_labels = fill_array_with_images(label_to_path_map, train_size, image_size, pixel_depth)\n",
    "    test_dataset, test_labels = fill_array_with_images(label_to_path_map, test_size, image_size, pixel_depth)\n",
    "    return train_dataset, train_labels, valid_dataset, valid_labels, test_dataset, test_labels\n",
    "            \n",
    "            \n",
    "train_size = 500000\n",
    "valid_size = 15000\n",
    "test_size = 20000\n",
    "image_size = 28 \n",
    "pixel_depth = 255.0\n",
    "label_to_path_map={\n",
    "    class_idx:[\n",
    "        f\"{PATH_TO_IMAGES}/{class_label}/{file_name}\" for file_name in os.listdir(f\"{PATH_TO_IMAGES}/{class_label}\")]\n",
    "    for class_idx, class_label in enumerate(CLASS_LABELS)\n",
    "}\n",
    "train_dataset, train_labels, valid_dataset, valid_labels, test_dataset, test_labels=merge_datasets(label_to_path_map, train_size, valid_size, test_size, image_size, pixel_depth)\n",
    "train_dataset.shape, test_dataset.shape, valid_dataset.shape"
   ]
  },
  {
   "cell_type": "code",
   "execution_count": 5,
   "metadata": {},
   "outputs": [],
   "source": [
    "def find_overlaps(a_arr, b_arr):\n",
    "    overlaps=[]\n",
    "    hash_table={}\n",
    "    for idx, a_row in enumerate(a_arr):\n",
    "        hsh = hash(tuple(a_row.tolist()))\n",
    "        if hsh in hash_table:\n",
    "            hash_table[hsh].append(idx)\n",
    "        else:\n",
    "            hash_table[hsh] = [idx]\n",
    "    for b_row in b_arr:\n",
    "        hsh = hash(tuple(b_row.tolist()))\n",
    "        if hsh in hash_table:\n",
    "            for idx in hash_table[hsh]:\n",
    "                if np.array_equal(a_arr[idx], b_row):\n",
    "                      overlaps.append(idx)\n",
    "    return overlaps\n",
    "overlaps=find_overlaps(train_dataset,np.vstack((valid_dataset, test_dataset)))"
   ]
  },
  {
   "cell_type": "code",
   "execution_count": 6,
   "metadata": {},
   "outputs": [
    {
     "name": "stdout",
     "output_type": "stream",
     "text": [
      "Removed 46823 from train dataset, shape - (453177, 784)\n"
     ]
    }
   ],
   "source": [
    "if overlaps:\n",
    "    train_idxes=np.array(overlaps)\n",
    "    mask=np.array([True]*train_dataset.shape[0])\n",
    "    mask[train_idxes]=False\n",
    "    train_dataset=train_dataset[mask, :]\n",
    "    train_labels=train_labels[mask]\n",
    "    print(f\"Removed {train_size-train_dataset.shape[0]} from train dataset, shape - {train_dataset.shape}\")\n",
    "else:\n",
    "    print(\"No overlaps found\")\n"
   ]
  },
  {
   "cell_type": "code",
   "execution_count": 7,
   "metadata": {},
   "outputs": [],
   "source": [
    "def pickle_dataset(dataset, file_path):\n",
    "    try:\n",
    "        with open(file_path, 'wb') as f:\n",
    "            pickle.dump(dataset, f, pickle.HIGHEST_PROTOCOL)\n",
    "    except Exception as e:\n",
    "        print(f\"Unable to save data to {file_path}, reason {e}\")\n",
    "X_train = normalize(train_dataset, axis=1)\n",
    "y_train = train_labels\n",
    "\n",
    "X_test = normalize(test_dataset, axis=1)\n",
    "y_test = test_labels\n",
    "\n",
    "X_valid = normalize(valid_dataset, axis=1)\n",
    "y_valid = valid_labels\n",
    "pickle_dataset(X_train, f\"{PATH_TO_PICKLED_DATA}/X_train\")\n",
    "pickle_dataset(y_train, f\"{PATH_TO_PICKLED_DATA}/y_train\")\n",
    "pickle_dataset(X_test, f\"{PATH_TO_PICKLED_DATA}/X_test\")\n",
    "pickle_dataset(y_test, f\"{PATH_TO_PICKLED_DATA}/y_test\")\n",
    "pickle_dataset(X_valid, f\"{PATH_TO_PICKLED_DATA}/X_valid\")\n",
    "pickle_dataset(y_valid, f\"{PATH_TO_PICKLED_DATA}/y_valid\")"
   ]
  },
  {
   "cell_type": "code",
   "execution_count": 8,
   "metadata": {},
   "outputs": [
    {
     "data": {
      "image/png": "[encoded data removed]",
      "text/plain": [
       "<Figure size 1000x800 with 1 Axes>"
      ]
     },
     "metadata": {},
     "output_type": "display_data"
    }
   ],
   "source": [
    "lg = LogisticRegression(multi_class='multinomial', solver='lbfgs', max_iter=1000)\n",
    "X_scoring=[]\n",
    "y_scoring=[]\n",
    "for learning_set_size in np.logspace(6, 18, num=15, base=2):\n",
    "    scores=[]\n",
    "    learning_set_size=int(learning_set_size)\n",
    "    splits=StratifiedShuffleSplit(n_splits=3, test_size=10, random_state=0, train_size=learning_set_size)\n",
    "    for train_index, _ in splits.split(X_train, y_train):\n",
    "        lg.fit(X_train[train_index], y_train[train_index])\n",
    "        y_pred = lg.predict(X_test)\n",
    "        score=metrics.accuracy_score(y_test, y_pred)\n",
    "        scores.append(score)\n",
    "    X_scoring.append(learning_set_size)\n",
    "    y_scoring.append(np.mean(score))\n",
    "plt.figure(figsize=(10, 8), dpi= 100, facecolor='w', edgecolor='k')\n",
    "plt.plot(X_scoring, y_scoring)\n",
    "plt.xlabel(\"Training size\")\n",
    "plt.ylabel(\"Accuracy\")\n",
    "plt.show()"
   ]
  },
  {
   "cell_type": "code",
   "execution_count": null,
   "metadata": {},
   "outputs": [],
   "source": []
  }
 ],
 "metadata": {
  "kernelspec": {
   "display_name": "Python 3",
   "language": "python",
   "name": "python3"
  },
  "language_info": {
   "codemirror_mode": {
    "name": "ipython",
    "version": 3
   },
   "file_extension": ".py",
   "mimetype": "text/x-python",
   "name": "python",
   "nbconvert_exporter": "python",
   "pygments_lexer": "ipython3",
   "version": "3.7.3"
  }
 },
 "nbformat": 4,
 "nbformat_minor": 2
}
