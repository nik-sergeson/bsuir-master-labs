{
 "cells": [
  {
   "cell_type": "code",
   "execution_count": 18,
   "metadata": {},
   "outputs": [],
   "source": [
    "import scipy.stats as stats\n",
    "import matplotlib.pyplot as plt\n",
    "import matplotlib \n",
    "import pandas as pd\n",
    "import numpy as np\n",
    "from numpy import random\n",
    "import pickle\n",
    "import timeit\n",
    "from sklearn.model_selection import GridSearchCV\n",
    "from scipy.io import loadmat\n",
    "import scipy.optimize as opt\n",
    "from scipy.sparse.linalg import svds\n",
    "%matplotlib inline"
   ]
  },
  {
   "cell_type": "code",
   "execution_count": 19,
   "metadata": {},
   "outputs": [],
   "source": [
    "data=loadmat(\"data/Lab9/ex9_movies.mat\")"
   ]
  },
  {
   "cell_type": "code",
   "execution_count": 20,
   "metadata": {},
   "outputs": [],
   "source": [
    "Y=data[\"Y\"]\n",
    "R=data[\"R\"]"
   ]
  },
  {
   "cell_type": "code",
   "execution_count": 21,
   "metadata": {},
   "outputs": [],
   "source": [
    "def flatten_params(X, theta):\n",
    "    return np.concatenate((X.ravel(), theta.ravel()))\n",
    "\n",
    "def recover_params(params, n_movie, n_user, factor_num):\n",
    "     return params[:n_movie * factor_num].reshape(n_movie, factor_num), params[n_movie * factor_num:].reshape(n_user, factor_num)\n",
    "\n",
    "def cost_function(params, Y, R, factor_num, lambda_reg):\n",
    "    n_movie, n_user = Y.shape\n",
    "    X, theta = recover_params(params, n_movie, n_user, factor_num)\n",
    "    inner = np.multiply(np.matmul(X, theta.T) - Y, R)\n",
    "    reg_value=np.square(params).sum() * (lambda_reg / 2)\n",
    "    return np.square(inner).sum() / 2 + reg_value\n",
    "\n",
    "def run_gd_step(params, Y, R, factor_num, lambda_reg):\n",
    "    n_movies, n_user = Y.shape\n",
    "    X, theta = recover_params(params, n_movies, n_user, factor_num)\n",
    "    inner = np.multiply(np.matmul(X, theta.T) - Y, R)\n",
    "    X_grad = np.matmul(inner, theta)\n",
    "    theta_grad = np.matmul(inner.T, X)\n",
    "    return flatten_params(X_grad, theta_grad)+lambda_reg*params"
   ]
  },
  {
   "cell_type": "code",
   "execution_count": 22,
   "metadata": {},
   "outputs": [],
   "source": [
    "ratings = np.zeros(Y.shape[0])\n",
    "ratings[16] = 4\n",
    "ratings[32] = 3\n",
    "ratings[48] = 5\n",
    "ratings[98] = 4\n",
    "ratings[128] = 5\n",
    "ratings[256] = 3\n",
    "ratings[512] = 5\n",
    "ratings[753] = 2\n",
    "ratings[999] = 4\n",
    "ratings[1001] = 5"
   ]
  },
  {
   "cell_type": "code",
   "execution_count": 23,
   "metadata": {},
   "outputs": [],
   "source": [
    "Y = np.insert(Y, 0, ratings, axis=1)\n",
    "R = np.insert(R, 0, ratings != 0, axis=1)"
   ]
  },
  {
   "cell_type": "code",
   "execution_count": 24,
   "metadata": {},
   "outputs": [],
   "source": [
    "number_of_movies, number_of_users = Y.shape\n",
    "factor_num = 20 \n",
    "lambda_reg=10\n",
    "theta = 3 * np.random.rand(number_of_users, factor_num)\n",
    "X = 3 * np.random.rand(number_of_movies, factor_num)"
   ]
  },
  {
   "cell_type": "code",
   "execution_count": 25,
   "metadata": {},
   "outputs": [],
   "source": [
    "params = flatten_params(X, theta)\n",
    "Y_norm = Y - Y.mean()"
   ]
  },
  {
   "cell_type": "code",
   "execution_count": 26,
   "metadata": {},
   "outputs": [],
   "source": [
    "res = opt.minimize(fun=cost_function,\n",
    "                   x0=params,\n",
    "                   args=(Y_norm, R, factor_num, lambda_reg),\n",
    "                   method='TNC',\n",
    "                   jac=run_gd_step)"
   ]
  },
  {
   "cell_type": "code",
   "execution_count": 27,
   "metadata": {},
   "outputs": [
    {
     "data": {
      "text/plain": [
       "     fun: 67178.77066239035\n",
       "     jac: array([ 4.55567057e-06, -1.82166305e-06,  7.66621617e-06, ...,\n",
       "        1.22958213e-07,  8.23059875e-07,  1.58767786e-06])\n",
       " message: 'Converged (|f_n-f_(n-1)| ~= 0)'\n",
       "    nfev: 1800\n",
       "     nit: 59\n",
       "  status: 1\n",
       " success: True\n",
       "       x: array([ 0.51013287,  0.86636894,  0.29504827, ...,  0.24678119,\n",
       "       -0.24482926,  0.49397157])"
      ]
     },
     "execution_count": 27,
     "metadata": {},
     "output_type": "execute_result"
    }
   ],
   "source": [
    "res"
   ]
  },
  {
   "cell_type": "code",
   "execution_count": 28,
   "metadata": {},
   "outputs": [],
   "source": [
    "X_trained, theta_trained = recover_params(res.x, number_of_movies, number_of_users, factor_num)"
   ]
  },
  {
   "cell_type": "code",
   "execution_count": 51,
   "metadata": {},
   "outputs": [],
   "source": [
    "prediction = np.matmul(X_trained, theta_trained.T)\n",
    "my_preds = prediction[:, 0] + Y.mean()\n",
    "idx = np.argsort(my_preds)[::-1]"
   ]
  },
  {
   "cell_type": "code",
   "execution_count": 52,
   "metadata": {},
   "outputs": [],
   "source": [
    "movie_list = []\n",
    "with open('data/Lab9/movie_ids.txt', encoding='latin-1') as f:\n",
    "    for line in f:\n",
    "        tokens = line.strip().split(' ')\n",
    "        movie_list.append(' '.join(tokens[1:]))"
   ]
  },
  {
   "cell_type": "code",
   "execution_count": 53,
   "metadata": {},
   "outputs": [],
   "source": [
    "movie_list = np.array(movie_list)"
   ]
  },
  {
   "cell_type": "code",
   "execution_count": 54,
   "metadata": {},
   "outputs": [
    {
     "name": "stdout",
     "output_type": "stream",
     "text": [
      "Schindler's List (1993)\n",
      "Shawshank Redemption, The (1994)\n",
      "Star Wars (1977)\n",
      "Raiders of the Lost Ark (1981)\n",
      "Pulp Fiction (1994)\n",
      "Usual Suspects, The (1995)\n",
      "Good Will Hunting (1997)\n",
      "Empire Strikes Back, The (1980)\n",
      "Casablanca (1942)\n",
      "Titanic (1997)\n",
      "Wrong Trousers, The (1993)\n",
      "Braveheart (1995)\n",
      "Great Escape, The (1963)\n",
      "Henry V (1989)\n",
      "Silence of the Lambs, The (1991)\n",
      "Wallace & Gromit: The Best of Aardman Animation (1996)\n",
      "Princess Bride, The (1987)\n",
      "Bridge on the River Kwai, The (1957)\n",
      "As Good As It Gets (1997)\n",
      "Manchurian Candidate, The (1962)\n"
     ]
    }
   ],
   "source": [
    "for m in movie_list[idx][:20]:\n",
    "    print(m)"
   ]
  },
  {
   "cell_type": "code",
   "execution_count": 74,
   "metadata": {},
   "outputs": [],
   "source": [
    "Y_filled = Y_norm.copy()\n",
    "means=np.mean(Y_filled, axis=1)\n",
    "for k, raitings in enumerate(Y_filled):\n",
    "    Y_filled[k, R[k, :]==0]=means[k]\n",
    "U, sigma, Vt = svds(Y_filled.astype(np.float), k = factor_num)\n",
    "sigma = np.diag(sigma)\n",
    "all_user_predicted_ratings = np.dot(np.dot(U, sigma), Vt)"
   ]
  },
  {
   "cell_type": "code",
   "execution_count": 75,
   "metadata": {},
   "outputs": [],
   "source": [
    "my_preds = all_user_predicted_ratings[:, 0] + Y.mean()\n",
    "idx = np.argsort(my_preds)[::-1]"
   ]
  },
  {
   "cell_type": "code",
   "execution_count": 76,
   "metadata": {},
   "outputs": [
    {
     "name": "stdout",
     "output_type": "stream",
     "text": [
      "Star Wars (1977)\n",
      "Fargo (1996)\n",
      "Return of the Jedi (1983)\n",
      "Contact (1997)\n",
      "Raiders of the Lost Ark (1981)\n",
      "Godfather, The (1972)\n",
      "Toy Story (1995)\n",
      "English Patient, The (1996)\n",
      "Scream (1996)\n",
      "Pulp Fiction (1994)\n",
      "Silence of the Lambs, The (1991)\n",
      "Empire Strikes Back, The (1980)\n",
      "Liar Liar (1997)\n",
      "Air Force One (1997)\n",
      "Twelve Monkeys (1995)\n",
      "Jerry Maguire (1996)\n",
      "Rock, The (1996)\n",
      "Titanic (1997)\n",
      "Fugitive, The (1993)\n",
      "Princess Bride, The (1987)\n"
     ]
    }
   ],
   "source": [
    "movie_list = np.array(movie_list)\n",
    "for m in movie_list[idx][:20]:\n",
    "    print(m)"
   ]
  },
  {
   "cell_type": "code",
   "execution_count": null,
   "metadata": {},
   "outputs": [],
   "source": []
  }
 ],
 "metadata": {
  "kernelspec": {
   "display_name": "Python 3",
   "language": "python",
   "name": "python3"
  },
  "language_info": {
   "codemirror_mode": {
    "name": "ipython",
    "version": 3
   },
   "file_extension": ".py",
   "mimetype": "text/x-python",
   "name": "python",
   "nbconvert_exporter": "python",
   "pygments_lexer": "ipython3",
   "version": "3.7.3"
  }
 },
 "nbformat": 4,
 "nbformat_minor": 2
}
